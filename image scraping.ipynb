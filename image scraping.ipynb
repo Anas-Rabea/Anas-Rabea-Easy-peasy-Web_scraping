{
 "cells": [
  {
   "cell_type": "code",
   "execution_count": 1,
   "metadata": {},
   "outputs": [],
   "source": [
    "import requests\n",
    "from bs4 import BeautifulSoup\n",
    "import os\n",
    "import pandas as pd"
   ]
  },
  {
   "cell_type": "code",
   "execution_count": 2,
   "metadata": {},
   "outputs": [],
   "source": [
    "url = 'https://www.airbnb.co.uk/s/Egypt/homes?tab_id=home_tab&refinement_paths%5B%5D=%2Fhomes&flexible_trip_dates%5B%5D=april&flexible_trip_dates%5B%5D=may&flexible_trip_lengths%5B%5D=weekend_trip&date_picker_type=calendar&query=Egypt&place_id=ChIJ6TZcw3aJNhQRRMTEJQmgRSw&checkin=2021-04-17&checkout=2021-04-30&source=structured_search_input_header&search_type=autocomplete_click' \n",
    "source = requests.get(url).text\n",
    "soup = BeautifulSoup(source , 'lxml')"
   ]
  },
  {
   "cell_type": "code",
   "execution_count": 3,
   "metadata": {},
   "outputs": [],
   "source": [
    "directory = 'C:\\\\Users\\\\PROOO\\\\Desktop\\\\ML projects'\n",
    "os.mkdir(os.path.join(directory,'Photos'))\n"
   ]
  },
  {
   "cell_type": "code",
   "execution_count": 5,
   "metadata": {},
   "outputs": [
    {
     "name": "stdout",
     "output_type": "stream",
     "text": [
      ".................................\n",
      "the link is : https://a0.muscache.com/im/pictures/1b559da7-1b58-4982-95b0-a45c1b276c2b.jpg?im_w=720\n",
      "our title is  Azzurra Sahl Hasheesh suite 4 letti\n",
      ".................................\n",
      "the link is : https://a0.muscache.com/im/pictures/d21e9ba2-d9e6-4d20-a5bc-3dbc5cce7970.jpg?im_w=720\n",
      "our title is  El-Gouna Water-Side Apartments\n",
      ".................................\n",
      "the link is : https://a0.muscache.com/im/pictures/0f8fa817-64a6-41dc-a6fa-cc945479944c.jpg?im_w=720\n",
      "our title is  Beach front  Sea View 1BR apartment-Kitesurf Beach\n",
      ".................................\n",
      "the link is : https://a0.muscache.com/im/pictures/6ffd0891-fa01-4821-b9ff-41c9c4e7e3b1.jpg?im_w=720\n",
      "our title is  Hurghada El Gouna Red Sea West Golf - Egypt\n",
      ".................................\n",
      "the link is : https://a0.muscache.com/im/pictures/2d94d3df-5cae-41c2-88c9-83cec6780f55.jpg?im_w=720\n",
      "our title is  Villa Romana - Heated pool, free WiFi, El Gouna\n",
      ".................................\n",
      "the link is : https://a0.muscache.com/im/pictures/7c450124-b170-455f-8eb3-91e7197fe1e5.jpg?im_w=720\n",
      "our title is  Monroe's beach front studio- Lighthouse area-Dahab\n",
      ".................................\n",
      "the link is : https://a0.muscache.com/im/pictures/393df482-4674-4290-9474-eb3ffc9189af.jpg?im_w=720\n",
      "our title is  Geo Palace Double Room\n",
      ".................................\n",
      "the link is : https://a0.muscache.com/im/pictures/afd62c2a-de79-4450-b338-33835b90ecf9.jpg?im_w=720\n",
      "our title is  Seahorse Apt-Lagoon Villa (spa bath & shared pool)\n",
      ".................................\n",
      "the link is : https://a0.muscache.com/im/pictures/1c23d290-2fde-4ca4-aaf1-8e3e4110c63a.jpg?im_w=720\n",
      "our title is  Beit Theresa - Tree House (Panorama Sea View)\n",
      ".................................\n",
      "the link is : https://a0.muscache.com/im/pictures/miso/Hosting-48417786/original/9a6922cb-1689-438c-b436-a3554148339d.jpeg?im_w=720\n",
      "our title is  LaVilla Guest house Single Wooden Room 5\n",
      ".................................\n",
      "the link is : https://a0.muscache.com/im/pictures/87c878f1-018e-486d-a326-16550e3a92c6.jpg?im_w=720\n",
      "our title is  Moataz Duplex New Cairo, Families&Married Couples\n",
      ".................................\n",
      "the link is : https://a0.muscache.com/im/pictures/e68320a4-9471-45c5-bbd1-e521fc8e4e5a.jpg?im_w=720\n",
      "our title is  Waterfront Designer 2BR w/ Pool Access - 5 min to Airport\n",
      ".................................\n",
      "the link is : https://a0.muscache.com/im/pictures/6d08c74d-6b8f-4f19-9057-3e311b47e36a.jpg?im_w=720\n",
      "our title is  Lemon Spaces Cozy 1BR At New Cairo Close To AUC\n",
      ".................................\n",
      "the link is : https://a0.muscache.com/im/pictures/a7e11a1d-6d7d-40f9-a012-338e7d051084.jpg?im_w=720\n",
      "our title is  3 Bedroom. Luxury-Comfort-Location.\n",
      ".................................\n",
      "the link is : https://a0.muscache.com/im/pictures/db381d31-26be-4766-93dd-3a43d09cb041.jpg?im_w=720\n",
      "our title is  Support Egypt 4\n",
      ".................................\n",
      "the link is : https://a0.muscache.com/im/pictures/6534c91a-d893-4074-b769-fc2045aa3dea.jpg?im_w=720\n",
      "our title is  Luxury duplex in west golf\n",
      ".................................\n",
      "the link is : https://a0.muscache.com/im/pictures/21c0dce9-782c-4041-8bba-0d18746c1f45.jpg?im_w=720\n",
      "our title is  1BR- Beach house - Garden - Assala beach.\n",
      ".................................\n",
      "the link is : https://a0.muscache.com/im/pictures/e29a26a9-a26a-4e44-8d23-be3a6f5cb735.jpg?im_w=720\n",
      "our title is  El Gouna Villa with heated pool,free view, privacy\n",
      ".................................\n",
      "the link is : https://a0.muscache.com/im/pictures/1b559da7-1b58-4982-95b0-a45c1b276c2b.jpg?im_w=720\n",
      "our title is  Azzurra Sahl Hasheesh suite 4 letti\n",
      ".................................\n",
      "the link is : https://a0.muscache.com/im/pictures/ec949909-5cd8-439d-b39e-7223684ba87b.jpg?im_w=720\n",
      "our title is  Sky-Star-Villa 25 über den Dächern von Hurghada\n",
      ".................................\n",
      "the link is : https://a0.muscache.com/im/pictures/83c33084-5b95-4a74-97b1-b6c5816be4b7.jpg?im_w=720\n",
      "our title is  Flat Honey Holiday Welcomed couple! Wifi 20g free\n",
      ".................................\n",
      "the link is : https://a0.muscache.com/im/pictures/d21e9ba2-d9e6-4d20-a5bc-3dbc5cce7970.jpg?im_w=720\n",
      "our title is  El-Gouna Water-Side Apartments\n",
      ".................................\n",
      "the link is : https://a0.muscache.com/im/pictures/0f8fa817-64a6-41dc-a6fa-cc945479944c.jpg?im_w=720\n",
      "our title is  Beach front  Sea View 1BR apartment-Kitesurf Beach\n",
      ".................................\n",
      "the link is : https://a0.muscache.com/im/pictures/173d0187-bab9-4ebe-9f1e-ab385e67beaf.jpg?im_w=720\n",
      "our title is  Marina Mosaique 1 BR Apartment with Pool view\n",
      ".................................\n",
      "the link is : https://a0.muscache.com/im/pictures/f774e9a0-b818-4834-9499-922485be0113.jpg?im_w=720\n",
      "our title is  ☀BOSSA NOVA☀ Beachfront Apartment\n",
      ".................................\n",
      "the link is : https://a0.muscache.com/im/pictures/afd62c2a-de79-4450-b338-33835b90ecf9.jpg?im_w=720\n",
      "our title is  Seahorse Apt-Lagoon Villa (spa bath & shared pool)\n",
      ".................................\n",
      "the link is : https://a0.muscache.com/im/pictures/6ffd0891-fa01-4821-b9ff-41c9c4e7e3b1.jpg?im_w=720\n",
      "our title is  Hurghada El Gouna Red Sea West Golf - Egypt\n",
      ".................................\n",
      "the link is : https://a0.muscache.com/im/pictures/75701d81-42e4-4954-a050-f442945a2cb2.jpg?im_w=720\n",
      "our title is  Flat Close to Private Beach\n",
      ".................................\n",
      "the link is : https://a0.muscache.com/im/pictures/183f329d-32da-4352-90bb-b94aa7a36986.jpg?im_w=720\n",
      "our title is  Dar Khan, a Unique Resort (East Wing)\n",
      ".................................\n",
      "the link is : https://a0.muscache.com/im/pictures/0a6941b0-e811-4530-ba84-1f61cbf90305.jpg?im_w=720\n",
      "our title is  1bed room westgolf-y62-0-15\n",
      ".................................\n",
      "the link is : https://a0.muscache.com/im/pictures/dfe63409-640a-494c-bf7f-d37f44f9f953.jpg?im_w=720\n",
      "our title is  Suite with kitchen & WIFI, Domina Coral Bay, EGYPT\n",
      ".................................\n",
      "the link is : https://a0.muscache.com/im/pictures/02763795-338c-49f3-a2a8-f24474253067.jpg?im_w=720\n",
      "our title is  1 bedroom apartment in downtown ElGouna\n",
      ".................................\n",
      "the link is : https://a0.muscache.com/im/pictures/7d111e1d-363c-45d5-a96d-f34ca50b4e10.jpg?im_w=720\n",
      "our title is  AL JORF MOUNTAIN VIEW\n",
      ".................................\n",
      "the link is : https://a0.muscache.com/im/pictures/452521d8-5861-4424-a34b-6811f8f24335.jpg?im_w=720\n",
      "our title is  The View Residence Family Apartments Pool & Beach\n",
      ".................................\n",
      "the link is : https://a0.muscache.com/im/pictures/335e6111-9619-4ee9-b3bf-d73c53f7cad5.jpg?im_w=720\n",
      "our title is  Brandnew apartment in Delta Sharm, Seaview\n"
     ]
    }
   ],
   "source": [
    "os.chdir(os.path.join(directory,'Photos'))\n",
    "\n",
    "for img in soup.find_all('img'):\n",
    "    link = img['src']\n",
    "    title = img['alt']\n",
    "    print('.................................')\n",
    "    print('the link is :' , link)\n",
    "    print('our title is ',title)\n",
    "    with open (title.replace(' ','').replace('*','').replace('&','').replace('\"','').replace('/','') +'.jpg' , 'wb') as file:\n",
    "        file.write(requests.get(link).content)\n"
   ]
  },
  {
   "cell_type": "code",
   "execution_count": null,
   "metadata": {},
   "outputs": [],
   "source": []
  },
  {
   "cell_type": "code",
   "execution_count": null,
   "metadata": {},
   "outputs": [],
   "source": []
  },
  {
   "cell_type": "code",
   "execution_count": null,
   "metadata": {},
   "outputs": [],
   "source": []
  }
 ],
 "metadata": {
  "kernelspec": {
   "display_name": "Python 3",
   "language": "python",
   "name": "python3"
  },
  "language_info": {
   "codemirror_mode": {
    "name": "ipython",
    "version": 3
   },
   "file_extension": ".py",
   "mimetype": "text/x-python",
   "name": "python",
   "nbconvert_exporter": "python",
   "pygments_lexer": "ipython3",
   "version": "3.8.3"
  }
 },
 "nbformat": 4,
 "nbformat_minor": 4
}
